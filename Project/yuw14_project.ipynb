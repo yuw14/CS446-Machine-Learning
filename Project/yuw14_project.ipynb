{
  "nbformat": 4,
  "nbformat_minor": 0,
  "metadata": {
    "accelerator": "GPU",
    "colab": {
      "name": "yuw14_final.ipynb",
      "provenance": [],
      "collapsed_sections": [],
      "machine_shape": "hm"
    },
    "kernelspec": {
      "display_name": "Python 3",
      "name": "python3"
    }
  },
  "cells": [
    {
      "cell_type": "markdown",
      "metadata": {
        "id": "view-in-github"
      },
      "source": [
        "<a href=\"https://colab.research.google.com/github/as791/Brain-Tumor-Segmentation-BRaTS-18/blob/master/Main_file.ipynb\" target=\"_parent\"><img src=\"https://colab.research.google.com/assets/colab-badge.svg\" alt=\"Open In Colab\"/></a>"
      ]
    },
    {
      "cell_type": "markdown",
      "metadata": {
        "id": "K9HupVeqgqzu"
      },
      "source": [
        "#Connecting Google Drive"
      ]
    },
    {
      "cell_type": "code",
      "metadata": {
        "colab": {
          "base_uri": "https://localhost:8080/"
        },
        "id": "wwSBesb6FGTH",
        "outputId": "4cf95afd-83d6-4fbd-c2de-f335bdcbee56"
      },
      "source": [
        "from google.colab import drive\n",
        "import os\n",
        "drive.mount('/content/drive',force_remount=True)\n",
        "# os.chdir('/content/drive/My Drive/cs446_project/Multimodal-Brain-Tumor-Segmentation/Dataset')"
      ],
      "execution_count": null,
      "outputs": [
        {
          "output_type": "stream",
          "text": [
            "Mounted at /content/drive\n"
          ],
          "name": "stdout"
        }
      ]
    },
    {
      "cell_type": "markdown",
      "metadata": {
        "id": "vVLTjIlkOQ24"
      },
      "source": [
        "#Loading data from mri scans"
      ]
    },
    {
      "cell_type": "code",
      "metadata": {
        "colab": {
          "base_uri": "https://localhost:8080/"
        },
        "id": "T6wEVlw2Gghe",
        "outputId": "b8ebe251-d4b8-4160-842a-784fa61e5f4c"
      },
      "source": [
        "!pip install SimpleITK"
      ],
      "execution_count": null,
      "outputs": [
        {
          "output_type": "stream",
          "text": [
            "shell-init: error retrieving current directory: getcwd: cannot access parent directories: Transport endpoint is not connected\n",
            "shell-init: error retrieving current directory: getcwd: cannot access parent directories: Transport endpoint is not connected\n",
            "The folder you are executing pip from can no longer be found.\n"
          ],
          "name": "stdout"
        }
      ]
    },
    {
      "cell_type": "code",
      "metadata": {
        "id": "AmpewYzHGjy3"
      },
      "source": [
        "import SimpleITK as sitk \n",
        "from tqdm import tqdm\n",
        "import numpy as np\n",
        "from keras.utils import to_categorical,normalize\n"
      ],
      "execution_count": null,
      "outputs": []
    },
    {
      "cell_type": "markdown",
      "metadata": {
        "id": "IZWoSVQQpSCK"
      },
      "source": [
        "#Loading saved data for usage"
      ]
    },
    {
      "cell_type": "code",
      "metadata": {
        "id": "jDmFXealhdxy"
      },
      "source": [
        "import numpy as np\n",
        "from tqdm import tqdm"
      ],
      "execution_count": null,
      "outputs": []
    },
    {
      "cell_type": "markdown",
      "metadata": {
        "id": "SLNUTlTBsSPY"
      },
      "source": [
        "# Pre-Processing of data "
      ]
    },
    {
      "cell_type": "markdown",
      "metadata": {
        "id": "tvcU4hSRFuJM"
      },
      "source": [
        "# U-net + dice loss "
      ]
    },
    {
      "cell_type": "markdown",
      "metadata": {
        "id": "kE2RqYoGhF2M"
      },
      "source": [
        "## Loading Data"
      ]
    },
    {
      "cell_type": "code",
      "metadata": {
        "id": "fNLoJzfpsimw"
      },
      "source": [
        "import os\n",
        "os.chdir('/content/drive/My Drive/cs446_project')"
      ],
      "execution_count": null,
      "outputs": []
    },
    {
      "cell_type": "code",
      "metadata": {
        "id": "H8jXhr7rihkq"
      },
      "source": [
        "import numpy as np\n",
        "from keras.utils import to_categorical,normalize\n"
      ],
      "execution_count": null,
      "outputs": []
    },
    {
      "cell_type": "code",
      "metadata": {
        "id": "55oJUXwu37NG"
      },
      "source": [
        "#below is written by lin\n",
        "#this will cut the padded image to its origin size\n",
        "def cutimage(image, newH, newW, newD):\n",
        "    # image(H, W, D, 4)\n",
        "    padHL = (image.shape[0] - newH) // 2\n",
        "    padHR = padHL + newH\n",
        "    padWL = (image.shape[1] - newW) // 2\n",
        "    padWR = padWL + newW\n",
        "    padDL = (image.shape[2] - newD) // 2\n",
        "    padDR = padDL + newD\n",
        "    toret = image[padHL:padHR,padWL:padWR,padDL:padDR,...]\n",
        "    return toret\n",
        "#this will return a larger image \n",
        "def padimage(image, targH, targW=192, targD=192):\n",
        "    HL = (targH - image.shape[0]) // 2\n",
        "    HR = (targH - HL - image.shape[0])\n",
        "    WL = (targW - image.shape[1]) // 2\n",
        "    WR = (targW - WL - image.shape[1])\n",
        "    DL = (targD - image.shape[2]) // 2\n",
        "    DR = (targD - DL - image.shape[2])\n",
        "    return np.pad(image, pad_width=((HL, HR), (WL, WR), (DL, DR), (0,0)), mode='constant', constant_values=0)\n"
      ],
      "execution_count": null,
      "outputs": []
    },
    {
      "cell_type": "markdown",
      "metadata": {
        "id": "nMK0c-Dbxl2k"
      },
      "source": [
        "\n",
        "```\n",
        "input的图：\n",
        "X_train: [4,H,W,D]\n",
        "Y_train: [H,W,D]\n",
        "X_val: [4,H,W,D]\n",
        "Y_val: [H,W,D]\n",
        "```\n",
        "\n"
      ]
    },
    {
      "cell_type": "markdown",
      "metadata": {
        "id": "6Z5sIfyHudO9"
      },
      "source": [
        "**最终想要的：**\n"
      ]
    },
    {
      "cell_type": "markdown",
      "metadata": {
        "id": "l-gIojpVvVWc"
      },
      "source": [
        "\n",
        "\n",
        "```\n",
        "X_train: [D,H,W,4] [#,192,192,4]\n",
        "Y_train: [D,H,W] -> [D,H,W,4] [#,192,192] -> [#,192,192,4]\n",
        "X_val: [D,H,W,4] [#,192,192,4]\n",
        "Y_val: [D,H,W] -> [D,H,W,4] [#,192,192] -> [#,192,192,4]\n",
        "```\n",
        "\n"
      ]
    },
    {
      "cell_type": "code",
      "metadata": {
        "colab": {
          "base_uri": "https://localhost:8080/"
        },
        "id": "tgPkF5Do0HAz",
        "outputId": "066e9ea0-9aba-4b4b-9572-ab5770cda256"
      },
      "source": [
        "X_train_1 = np.load('/content/drive/MyDrive/cs446_project/data/data_pub/train/001_imgs.npy') #[4,H,W,D]\n",
        "C_train,H_train,W_train,D_train = X_train_1.shape\n",
        "X_train_1 = np.swapaxes(X_train_1,0,3) #[D,H,W,4]\n",
        "X_train_1 = padimage(X_train_1, D_train,192,192) #[D,192,192,4]\n",
        "print(\"shape of X_train_1 \"+str(X_train_1.shape))"
      ],
      "execution_count": null,
      "outputs": [
        {
          "output_type": "stream",
          "text": [
            "shape of X_train_1 (143, 192, 192, 4)\n"
          ],
          "name": "stdout"
        }
      ]
    },
    {
      "cell_type": "code",
      "metadata": {
        "colab": {
          "base_uri": "https://localhost:8080/"
        },
        "id": "3Omtmwih49AU",
        "outputId": "c0397e2a-9879-4b27-8592-51e0d2b18c33"
      },
      "source": [
        "Y_train_1 = np.load('/content/drive/MyDrive/cs446_project/data/data_pub/train/001_seg.npy') #[H,W,D]\n",
        "Y_train_1 = np.swapaxes(Y_train_1,1,2) #[H,D,W]\n",
        "Y_train_1 = np.swapaxes(Y_train_1,0,1) #[D,H,W]\n",
        "Y_train_1 = Y_train_1[:,:,:].reshape([D_train,H_train,W_train,1]) #[D,H,W,1]\n",
        "Y_train_1 = padimage(Y_train_1, D_train,192,192) #[D,192,192,1]\n",
        "# Y_train_1 = to_categorical(Y_train_1) #[D,192,192,4]\n",
        "print(\"shape of Y_train_1 \"+str(Y_train_1.shape))"
      ],
      "execution_count": null,
      "outputs": [
        {
          "output_type": "stream",
          "text": [
            "shape of Y_train_1 (143, 192, 192, 1)\n"
          ],
          "name": "stdout"
        }
      ]
    },
    {
      "cell_type": "code",
      "metadata": {
        "id": "ZSeDm6ii53O2",
        "colab": {
          "base_uri": "https://localhost:8080/"
        },
        "outputId": "9bb3c75e-6b14-4746-c10c-38b20f4eca28"
      },
      "source": [
        "X_val_1 = np.load('/content/drive/MyDrive/cs446_project/data/data_pub/validation/001_imgs.npy') #[4,H,W,D]\n",
        "C_val,H_val,W_val,D_val = X_val_1.shape\n",
        "X_val_1 = np.swapaxes(X_val_1,0,3) #[D,H,W,4]\n",
        "X_val_1 = padimage(X_val_1, D_val,192,192) #[D,192,192,4]\n",
        "print(\"shape of X_val_1 \"+str(X_val_1.shape))"
      ],
      "execution_count": null,
      "outputs": [
        {
          "output_type": "stream",
          "text": [
            "shape of X_val_1 (142, 192, 192, 4)\n"
          ],
          "name": "stdout"
        }
      ]
    },
    {
      "cell_type": "code",
      "metadata": {
        "id": "RjuQdo0a53WK",
        "colab": {
          "base_uri": "https://localhost:8080/"
        },
        "outputId": "a73baaea-423c-4a12-ef95-4f8c21a48716"
      },
      "source": [
        "Y_val_1 = np.load('/content/drive/MyDrive/cs446_project/data/data_pub/validation/001_seg.npy') #[H,W,D]\n",
        "Y_val_1 = np.swapaxes(Y_val_1,1,2) #[H,D,W]\n",
        "Y_val_1 = np.swapaxes(Y_val_1,0,1) #[D,H,W]\n",
        "Y_val_1 = Y_val_1[:,:,:].reshape([D_val,H_val,W_val,1]) #[D,H,W,1]\n",
        "Y_val_1 = padimage(Y_val_1, D_val,192,192) #[D,192,192,1]\n",
        "# Y_val_1 = to_categorical(Y_val_1) #[D,192,192,4]\n",
        "print(\"shape of Y_val_1 \"+str(Y_val_1.shape))"
      ],
      "execution_count": null,
      "outputs": [
        {
          "output_type": "stream",
          "text": [
            "shape of Y_val_1 (142, 192, 192, 1)\n"
          ],
          "name": "stdout"
        }
      ]
    },
    {
      "cell_type": "code",
      "metadata": {
        "id": "A0B6Zebf6HrT"
      },
      "source": [
        "\n",
        "X_val = X_val_1\n",
        "Y_val = Y_val_1"
      ],
      "execution_count": null,
      "outputs": []
    },
    {
      "cell_type": "markdown",
      "metadata": {
        "id": "rNzEFBqYYbQx"
      },
      "source": [
        "Validation Data"
      ]
    },
    {
      "cell_type": "code",
      "metadata": {
        "id": "fitJYpORYT6P",
        "colab": {
          "base_uri": "https://localhost:8080/"
        },
        "outputId": "0a0e416f-8887-43be-af01-fadea3e5fa6d"
      },
      "source": [
        "for i in range(2,31):\n",
        "  if i<10:\n",
        "    print(\"The \"+str(i)+\"th image start loading\")\n",
        "    \n",
        "    X_val_curr = np.load('/content/drive/MyDrive/cs446_project/data/data_pub/validation/00'+str(i)+'_imgs.npy')  #[4,H,W,D]\n",
        "    C_val_curr,H_val_curr,W_val_curr,D_val_curr = X_val_curr.shape\n",
        "    X_val_curr = np.swapaxes(X_val_curr,0,3) #[D,H,W,4]\n",
        "    X_val_curr = padimage(X_val_curr, D_val_curr,192,192) #[D,192,192,4]\n",
        "    print(\"shape of X_val_curr \"+str(X_val_curr.shape))\n",
        "    X_val = np.concatenate((X_val,X_val_curr),axis=0)\n",
        "    print(\"shape of X_val \"+str(X_val.shape))\n",
        "\n",
        "    Y_val_curr = np.load('/content/drive/MyDrive/cs446_project/data/data_pub/validation/00'+str(i)+'_seg.npy') #[H,W,D]\n",
        "    Y_val_curr = np.swapaxes(Y_val_curr,1,2) #[H,D,W]\n",
        "    Y_val_curr = np.swapaxes(Y_val_curr,0,1) #[D,H,W]\n",
        "    Y_val_curr = Y_val_curr[:,:,:].reshape([D_val_curr,H_val_curr,W_val_curr,1]) #[D,H,W,1]\n",
        "    Y_val_curr = padimage(Y_val_curr, D_val_curr,192,192) #[D,192,192,1]\n",
        "    # Y_val_curr = to_categorical(Y_val_curr) #[D,192,192,4]\n",
        "    print(\"shape of Y_val_curr \"+str(Y_val_curr.shape))\n",
        "    Y_val = np.concatenate((Y_val,Y_val_curr),axis=0)\n",
        "    print(\"shape of Y_val \"+str(Y_val.shape))\n",
        "\n",
        "  else:\n",
        "    print(\"The \"+str(i)+\"th image start loading\")\n",
        "  \n",
        "    X_val_curr = np.load('/content/drive/MyDrive/cs446_project/data/data_pub/validation/0'+str(i)+'_imgs.npy')  #[4,H,W,D]\n",
        "    C_val_curr,H_val_curr,W_val_curr,D_val_curr = X_val_curr.shape\n",
        "    X_val_curr = np.swapaxes(X_val_curr,0,3) #[D,H,W,4]\n",
        "    X_val_curr = padimage(X_val_curr, D_val_curr,192,192) #[D,192,192,4]\n",
        "    print(\"shape of X_val_curr \"+str(X_val_curr.shape))\n",
        "    X_val = np.concatenate((X_val,X_val_curr),axis=0)\n",
        "    print(\"shape of X_val \"+str(X_val.shape))\n",
        "\n",
        "    Y_val_curr = np.load('/content/drive/MyDrive/cs446_project/data/data_pub/validation/0'+str(i)+'_seg.npy') #[H,W,D]\n",
        "    Y_val_curr = np.swapaxes(Y_val_curr,1,2) #[H,D,W]\n",
        "    Y_val_curr = np.swapaxes(Y_val_curr,0,1) #[D,H,W]\n",
        "    Y_val_curr = Y_val_curr[:,:,:].reshape([D_val_curr,H_val_curr,W_val_curr,1]) #[D,H,W,1]\n",
        "    Y_val_curr = padimage(Y_val_curr, D_val_curr,192,192) #[D,192,192,1]\n",
        "    # Y_val_curr = to_categorical(Y_val_curr) #[D,192,192,4]\n",
        "    print(\"shape of Y_val_curr \"+str(Y_val_curr.shape))\n",
        "    Y_val = np.concatenate((Y_val,Y_val_curr),axis=0)\n",
        "    print(\"shape of Y_val \"+str(Y_val.shape))"
      ],
      "execution_count": null,
      "outputs": [
        {
          "output_type": "stream",
          "text": [
            "The 2th image start loading\n",
            "shape of X_val_curr (137, 192, 192, 4)\n",
            "shape of X_val (279, 192, 192, 4)\n",
            "shape of Y_val_curr (137, 192, 192, 1)\n",
            "shape of Y_val (279, 192, 192, 1)\n",
            "The 3th image start loading\n",
            "shape of X_val_curr (136, 192, 192, 4)\n",
            "shape of X_val (415, 192, 192, 4)\n",
            "shape of Y_val_curr (136, 192, 192, 1)\n",
            "shape of Y_val (415, 192, 192, 1)\n",
            "The 4th image start loading\n",
            "shape of X_val_curr (131, 192, 192, 4)\n",
            "shape of X_val (546, 192, 192, 4)\n",
            "shape of Y_val_curr (131, 192, 192, 1)\n",
            "shape of Y_val (546, 192, 192, 1)\n",
            "The 5th image start loading\n",
            "shape of X_val_curr (138, 192, 192, 4)\n",
            "shape of X_val (684, 192, 192, 4)\n",
            "shape of Y_val_curr (138, 192, 192, 1)\n",
            "shape of Y_val (684, 192, 192, 1)\n",
            "The 6th image start loading\n",
            "shape of X_val_curr (135, 192, 192, 4)\n",
            "shape of X_val (819, 192, 192, 4)\n",
            "shape of Y_val_curr (135, 192, 192, 1)\n",
            "shape of Y_val (819, 192, 192, 1)\n",
            "The 7th image start loading\n",
            "shape of X_val_curr (136, 192, 192, 4)\n",
            "shape of X_val (955, 192, 192, 4)\n",
            "shape of Y_val_curr (136, 192, 192, 1)\n",
            "shape of Y_val (955, 192, 192, 1)\n",
            "The 8th image start loading\n",
            "shape of X_val_curr (136, 192, 192, 4)\n",
            "shape of X_val (1091, 192, 192, 4)\n",
            "shape of Y_val_curr (136, 192, 192, 1)\n",
            "shape of Y_val (1091, 192, 192, 1)\n",
            "The 9th image start loading\n",
            "shape of X_val_curr (138, 192, 192, 4)\n",
            "shape of X_val (1229, 192, 192, 4)\n",
            "shape of Y_val_curr (138, 192, 192, 1)\n",
            "shape of Y_val (1229, 192, 192, 1)\n",
            "The 10th image start loading\n",
            "shape of X_val_curr (134, 192, 192, 4)\n",
            "shape of X_val (1363, 192, 192, 4)\n",
            "shape of Y_val_curr (134, 192, 192, 1)\n",
            "shape of Y_val (1363, 192, 192, 1)\n",
            "The 11th image start loading\n",
            "shape of X_val_curr (139, 192, 192, 4)\n",
            "shape of X_val (1502, 192, 192, 4)\n",
            "shape of Y_val_curr (139, 192, 192, 1)\n",
            "shape of Y_val (1502, 192, 192, 1)\n",
            "The 12th image start loading\n",
            "shape of X_val_curr (144, 192, 192, 4)\n",
            "shape of X_val (1646, 192, 192, 4)\n",
            "shape of Y_val_curr (144, 192, 192, 1)\n",
            "shape of Y_val (1646, 192, 192, 1)\n",
            "The 13th image start loading\n",
            "shape of X_val_curr (132, 192, 192, 4)\n",
            "shape of X_val (1778, 192, 192, 4)\n",
            "shape of Y_val_curr (132, 192, 192, 1)\n",
            "shape of Y_val (1778, 192, 192, 1)\n",
            "The 14th image start loading\n",
            "shape of X_val_curr (133, 192, 192, 4)\n",
            "shape of X_val (1911, 192, 192, 4)\n",
            "shape of Y_val_curr (133, 192, 192, 1)\n",
            "shape of Y_val (1911, 192, 192, 1)\n",
            "The 15th image start loading\n",
            "shape of X_val_curr (141, 192, 192, 4)\n",
            "shape of X_val (2052, 192, 192, 4)\n",
            "shape of Y_val_curr (141, 192, 192, 1)\n",
            "shape of Y_val (2052, 192, 192, 1)\n",
            "The 16th image start loading\n",
            "shape of X_val_curr (139, 192, 192, 4)\n",
            "shape of X_val (2191, 192, 192, 4)\n",
            "shape of Y_val_curr (139, 192, 192, 1)\n",
            "shape of Y_val (2191, 192, 192, 1)\n",
            "The 17th image start loading\n",
            "shape of X_val_curr (143, 192, 192, 4)\n",
            "shape of X_val (2334, 192, 192, 4)\n",
            "shape of Y_val_curr (143, 192, 192, 1)\n",
            "shape of Y_val (2334, 192, 192, 1)\n",
            "The 18th image start loading\n",
            "shape of X_val_curr (138, 192, 192, 4)\n",
            "shape of X_val (2472, 192, 192, 4)\n",
            "shape of Y_val_curr (138, 192, 192, 1)\n",
            "shape of Y_val (2472, 192, 192, 1)\n",
            "The 19th image start loading\n",
            "shape of X_val_curr (138, 192, 192, 4)\n",
            "shape of X_val (2610, 192, 192, 4)\n",
            "shape of Y_val_curr (138, 192, 192, 1)\n",
            "shape of Y_val (2610, 192, 192, 1)\n",
            "The 20th image start loading\n",
            "shape of X_val_curr (141, 192, 192, 4)\n",
            "shape of X_val (2751, 192, 192, 4)\n",
            "shape of Y_val_curr (141, 192, 192, 1)\n",
            "shape of Y_val (2751, 192, 192, 1)\n",
            "The 21th image start loading\n",
            "shape of X_val_curr (148, 192, 192, 4)\n",
            "shape of X_val (2899, 192, 192, 4)\n",
            "shape of Y_val_curr (148, 192, 192, 1)\n",
            "shape of Y_val (2899, 192, 192, 1)\n",
            "The 22th image start loading\n",
            "shape of X_val_curr (134, 192, 192, 4)\n",
            "shape of X_val (3033, 192, 192, 4)\n",
            "shape of Y_val_curr (134, 192, 192, 1)\n",
            "shape of Y_val (3033, 192, 192, 1)\n",
            "The 23th image start loading\n",
            "shape of X_val_curr (133, 192, 192, 4)\n",
            "shape of X_val (3166, 192, 192, 4)\n",
            "shape of Y_val_curr (133, 192, 192, 1)\n",
            "shape of Y_val (3166, 192, 192, 1)\n",
            "The 24th image start loading\n",
            "shape of X_val_curr (148, 192, 192, 4)\n",
            "shape of X_val (3314, 192, 192, 4)\n",
            "shape of Y_val_curr (148, 192, 192, 1)\n",
            "shape of Y_val (3314, 192, 192, 1)\n",
            "The 25th image start loading\n",
            "shape of X_val_curr (134, 192, 192, 4)\n",
            "shape of X_val (3448, 192, 192, 4)\n",
            "shape of Y_val_curr (134, 192, 192, 1)\n",
            "shape of Y_val (3448, 192, 192, 1)\n",
            "The 26th image start loading\n",
            "shape of X_val_curr (138, 192, 192, 4)\n",
            "shape of X_val (3586, 192, 192, 4)\n",
            "shape of Y_val_curr (138, 192, 192, 1)\n",
            "shape of Y_val (3586, 192, 192, 1)\n",
            "The 27th image start loading\n",
            "shape of X_val_curr (133, 192, 192, 4)\n",
            "shape of X_val (3719, 192, 192, 4)\n",
            "shape of Y_val_curr (133, 192, 192, 1)\n",
            "shape of Y_val (3719, 192, 192, 1)\n",
            "The 28th image start loading\n",
            "shape of X_val_curr (132, 192, 192, 4)\n",
            "shape of X_val (3851, 192, 192, 4)\n",
            "shape of Y_val_curr (132, 192, 192, 1)\n",
            "shape of Y_val (3851, 192, 192, 1)\n",
            "The 29th image start loading\n",
            "shape of X_val_curr (138, 192, 192, 4)\n",
            "shape of X_val (3989, 192, 192, 4)\n",
            "shape of Y_val_curr (138, 192, 192, 1)\n",
            "shape of Y_val (3989, 192, 192, 1)\n",
            "The 30th image start loading\n",
            "shape of X_val_curr (146, 192, 192, 4)\n",
            "shape of X_val (4135, 192, 192, 4)\n",
            "shape of Y_val_curr (146, 192, 192, 1)\n",
            "shape of Y_val (4135, 192, 192, 1)\n"
          ],
          "name": "stdout"
        }
      ]
    },
    {
      "cell_type": "code",
      "metadata": {
        "id": "V_9EDz1jZB8U"
      },
      "source": [
        "Y_val = to_categorical(Y_val) # [D,192,192,1] -> [D,192,192,4]\n"
      ],
      "execution_count": null,
      "outputs": []
    },
    {
      "cell_type": "code",
      "metadata": {
        "colab": {
          "base_uri": "https://localhost:8080/"
        },
        "id": "vrIvdwPhZCfY",
        "outputId": "46562818-4a8b-4006-83c9-743026a77ae3"
      },
      "source": [
        "X_val.shape,Y_val.shape"
      ],
      "execution_count": null,
      "outputs": [
        {
          "output_type": "execute_result",
          "data": {
            "text/plain": [
              "((4135, 192, 192, 4), (4135, 192, 192, 4))"
            ]
          },
          "metadata": {
            "tags": []
          },
          "execution_count": 13
        }
      ]
    },
    {
      "cell_type": "code",
      "metadata": {
        "id": "aDkE4k2iY40b"
      },
      "source": [
        "np.save('/content/drive/MyDrive/cs446_project/data/Validation_Data/X_val_30.npy',X_val)\n",
        "np.save('/content/drive/MyDrive/cs446_project/data/Validation_Data/Y_val_30.npy',Y_val)"
      ],
      "execution_count": null,
      "outputs": []
    },
    {
      "cell_type": "code",
      "metadata": {
        "id": "f6__YoxtqZi-"
      },
      "source": [
        ""
      ],
      "execution_count": null,
      "outputs": []
    },
    {
      "cell_type": "markdown",
      "metadata": {
        "id": "vKQwgM3GqaFu"
      },
      "source": [
        "Load Validation Data"
      ]
    },
    {
      "cell_type": "code",
      "metadata": {
        "id": "Oy4ZReLPkoHy"
      },
      "source": [
        "X_val = np.load('/content/drive/MyDrive/cs446_project/data/Validation_Data/X_val_30.npy')\n",
        "Y_val = np.load('/content/drive/MyDrive/cs446_project/data/Validation_Data/Y_val_30.npy')"
      ],
      "execution_count": null,
      "outputs": []
    },
    {
      "cell_type": "code",
      "metadata": {
        "colab": {
          "base_uri": "https://localhost:8080/"
        },
        "id": "PIQAUaAgoZvl",
        "outputId": "94c5b9c1-2dac-482e-8030-418b0ca2c28e"
      },
      "source": [
        "X_val.shape,Y_val.shape"
      ],
      "execution_count": null,
      "outputs": [
        {
          "output_type": "execute_result",
          "data": {
            "text/plain": [
              "((4135, 192, 192, 4), (4135, 192, 192, 4))"
            ]
          },
          "metadata": {
            "tags": []
          },
          "execution_count": 9
        }
      ]
    },
    {
      "cell_type": "code",
      "metadata": {
        "id": "WYjI9SxQpleT"
      },
      "source": [
        "X_val_small = X_val[0:1350,:,:,:].reshape([1350,192,192,4]) \n",
        "Y_val_small = Y_val[0:1350,:,:,:].reshape([1350,192,192,4]) \n"
      ],
      "execution_count": null,
      "outputs": []
    },
    {
      "cell_type": "code",
      "metadata": {
        "colab": {
          "base_uri": "https://localhost:8080/"
        },
        "id": "TOnM_R-CqnHl",
        "outputId": "51b32592-d632-4a8a-9bcf-5a596f6b3e5c"
      },
      "source": [
        "X_val_small.shape,Y_val_small.shape"
      ],
      "execution_count": null,
      "outputs": [
        {
          "output_type": "execute_result",
          "data": {
            "text/plain": [
              "((1350, 192, 192, 4), (1350, 192, 192, 4))"
            ]
          },
          "metadata": {
            "tags": []
          },
          "execution_count": 19
        }
      ]
    },
    {
      "cell_type": "code",
      "metadata": {
        "id": "QAEtWu6vqT9s"
      },
      "source": [
        "np.save('/content/drive/MyDrive/cs446_project/data/Validation_Data/X_val_small.npy',X_val_small)\n",
        "np.save('/content/drive/MyDrive/cs446_project/data/Validation_Data/Y_val_small.npy',Y_val_small)"
      ],
      "execution_count": null,
      "outputs": []
    },
    {
      "cell_type": "markdown",
      "metadata": {
        "id": "bNlejkwZ2-yA"
      },
      "source": [
        "Load Small Validation Data"
      ]
    },
    {
      "cell_type": "code",
      "metadata": {
        "colab": {
          "base_uri": "https://localhost:8080/"
        },
        "id": "mSXBr3c528Nv",
        "outputId": "eb430340-abce-4e5d-c961-c5f9587cbc95"
      },
      "source": [
        "X_val_small = np.load('/content/drive/MyDrive/cs446_project/data/Validation_Data/X_val_small.npy')\n",
        "Y_val_small = np.load('/content/drive/MyDrive/cs446_project/data/Validation_Data/Y_val_small.npy')\n",
        "X_val_small.shape,Y_val_small.shape"
      ],
      "execution_count": null,
      "outputs": [
        {
          "output_type": "execute_result",
          "data": {
            "text/plain": [
              "((1350, 192, 192, 4), (1350, 192, 192, 4))"
            ]
          },
          "metadata": {
            "tags": []
          },
          "execution_count": 17
        }
      ]
    },
    {
      "cell_type": "markdown",
      "metadata": {
        "id": "jRCcVHWwZQ45"
      },
      "source": [
        "Training Data"
      ]
    },
    {
      "cell_type": "code",
      "metadata": {
        "id": "fJJRuDUQCVx7"
      },
      "source": [
        "X_train = np.zeros((0,192,192,4))\n",
        "Y_train = np.zeros((0,192,192,1))\n",
        "for i in range(161,205):\n",
        "  if i<10:\n",
        "    print(\"The \"+str(i)+\"th image start loading\")\n",
        "    X_train_curr = np.load('/content/drive/MyDrive/cs446_project/data/data_pub/train/00'+str(i)+'_imgs.npy') #[4,H,W,D]\n",
        "    C_train_curr,H_train_curr,W_train_curr,D_train_curr = X_train_curr.shape\n",
        "    X_train_curr = np.swapaxes(X_train_curr,0,3) #[D,H,W,4]\n",
        "    if (H_train_curr >192 and W_train_curr>192):\n",
        "      X_train_curr = cutimage(X_train_curr, D_train_curr,192,192) #[D,192,192,4]\n",
        "    elif H_train_curr >192:\n",
        "      X_train_curr = X_train_curr[:,0:192,:,:].reshape([D_train_curr,192,W_train_curr,4]) #[D,192,W,4]\n",
        "      X_train_curr = padimage(X_train_curr, D_train_curr,192,192) #[D,192,192,4]\n",
        "    elif W_train_curr>192:\n",
        "      X_train_curr = X_train_curr[:,:,0:192,:].reshape([D_train_curr,H_train_curr,192,4]) #[D,H,192,4]\n",
        "      X_train_curr = padimage(X_train_curr, D_train_curr,192,192) #[D,192,192,4]\n",
        "    else:\n",
        "      X_train_curr = padimage(X_train_curr, D_train_curr,192,192) #[D,192,192,4]\n",
        "    print(\"shape of X_train_curr \"+str(X_train_curr.shape))\n",
        "    X_train = np.concatenate((X_train,X_train_curr),axis=0)\n",
        "    print(\"shape of X_train \"+str(X_train.shape))\n",
        "\n",
        "    Y_train_curr = np.load('/content/drive/MyDrive/cs446_project/data/data_pub/train/00'+str(i)+'_seg.npy') #[H,W,D]\n",
        "    Y_train_curr = np.swapaxes(Y_train_curr,1,2) #[H,D,W]\n",
        "    Y_train_curr = np.swapaxes(Y_train_curr,0,1) #[D,H,W]\n",
        "    Y_train_curr = Y_train_curr[:,:,:].reshape([D_train_curr,H_train_curr,W_train_curr,1]) #[D,H,W,1]\n",
        "    if (H_train_curr >192 and W_train_curr>192):\n",
        "      Y_train_curr = cutimage(Y_train_curr, D_train_curr,192,192) #[D,192,192,1]\n",
        "    elif H_train_curr >192:\n",
        "      Y_train_curr = Y_train_curr[:,0:192,:,:].reshape([D_train_curr,192,W_train_curr,1]) #[D,192,W,1]\n",
        "      Y_train_curr = padimage(Y_train_curr, D_train_curr,192,192) #[D,192,192,1]\n",
        "    elif W_train_curr>192:\n",
        "      Y_train_curr = Y_train_curr[:,:,0:192,:].reshape([D_train_curr,H_train_curr,192,1]) #[D,H,192,1]\n",
        "      Y_train_curr = padimage(Y_train_curr, D_train_curr,192,192) #[D,192,192,1]\n",
        "    else:\n",
        "      Y_train_curr = padimage(Y_train_curr, D_train_curr,192,192) #[D,192,192,1]\n",
        "    # Y_train_curr = to_categorical(Y_train_curr) #[D,192,192,4]\n",
        "    print(\"shape of Y_train_curr \"+str(Y_train_curr.shape))\n",
        "    Y_train = np.concatenate((Y_train, Y_train_curr),axis=0)\n",
        "    print(\"shape of Y_train \"+str(Y_train.shape))\n",
        "\n",
        "\n",
        "  elif i<100:\n",
        "    print(\"The \"+str(i)+\"th image start loading\")\n",
        "    X_train_curr = np.load('/content/drive/MyDrive/cs446_project/data/data_pub/train/0'+str(i)+'_imgs.npy') #[4,H,W,D]\n",
        "    C_train_curr,H_train_curr,W_train_curr,D_train_curr = X_train_curr.shape\n",
        "    X_train_curr = np.swapaxes(X_train_curr,0,3) #[D,H,W,4]\n",
        "\n",
        "    if (H_train_curr >192 and W_train_curr>192):\n",
        "      X_train_curr = cutimage(X_train_curr, D_train_curr,192,192) #[D,192,192,4]\n",
        "    elif H_train_curr >192:\n",
        "      X_train_curr = X_train_curr[:,0:192,:,:].reshape([D_train_curr,192,W_train_curr,4]) #[D,192,W,4]\n",
        "      X_train_curr = padimage(X_train_curr, D_train_curr,192,192) #[D,192,192,4]\n",
        "    elif W_train_curr>192:\n",
        "      X_train_curr = X_train_curr[:,:,0:192,:].reshape([D_train_curr,H_train_curr,192,4]) #[D,H,192,4]\n",
        "      X_train_curr = padimage(X_train_curr, D_train_curr,192,192) #[D,192,192,4]\n",
        "    else:\n",
        "      X_train_curr = padimage(X_train_curr, D_train_curr,192,192) #[D,192,192,4]\n",
        "       \n",
        "    print(\"shape of X_train_curr \"+str(X_train_curr.shape))\n",
        "    X_train = np.concatenate((X_train,X_train_curr),axis=0)\n",
        "    print(\"shape of X_train \"+str(X_train.shape))\n",
        "\n",
        "    Y_train_curr = np.load('/content/drive/MyDrive/cs446_project/data/data_pub/train/0'+str(i)+'_seg.npy') #[H,W,D]\n",
        "    Y_train_curr = np.swapaxes(Y_train_curr,1,2) #[H,D,W]\n",
        "    Y_train_curr = np.swapaxes(Y_train_curr,0,1) #[D,H,W]\n",
        "    Y_train_curr = Y_train_curr[:,:,:].reshape([D_train_curr,H_train_curr,W_train_curr,1]) #[D,H,W,1]\n",
        "\n",
        "    if (H_train_curr >192 and W_train_curr>192):\n",
        "      Y_train_curr = cutimage(Y_train_curr, D_train_curr,192,192) #[D,192,192,1]\n",
        "    elif H_train_curr >192:\n",
        "      Y_train_curr = Y_train_curr[:,0:192,:,:].reshape([D_train_curr,192,W_train_curr,1]) #[D,192,W,1]\n",
        "      Y_train_curr = padimage(Y_train_curr, D_train_curr,192,192) #[D,192,192,1]\n",
        "    elif W_train_curr>192:\n",
        "      Y_train_curr = Y_train_curr[:,:,0:192,:].reshape([D_train_curr,H_train_curr,192,1]) #[D,H,192,1]\n",
        "      Y_train_curr = padimage(Y_train_curr, D_train_curr,192,192) #[D,192,192,1]\n",
        "    else:\n",
        "      Y_train_curr = padimage(Y_train_curr, D_train_curr,192,192) #[D,192,192,1]\n",
        "\n",
        "\n",
        "    # Y_train_curr = to_categorical(Y_train_curr) #[D,192,192,4]\n",
        "    print(\"shape of Y_train_curr \"+str(Y_train_curr.shape))\n",
        "    Y_train = np.concatenate((Y_train, Y_train_curr),axis=0)\n",
        "    print(\"shape of Y_train \"+str(Y_train.shape))\n",
        "\n",
        "  else:\n",
        "    print(\"The \"+str(i)+\"th image start loading\")\n",
        "    X_train_curr = np.load('/content/drive/MyDrive/cs446_project/data/data_pub/train/'+str(i)+'_imgs.npy') #[4,H,W,D]\n",
        "    C_train_curr,H_train_curr,W_train_curr,D_train_curr = X_train_curr.shape\n",
        "    X_train_curr = np.swapaxes(X_train_curr,0,3) #[D,H,W,4]\n",
        "    if (H_train_curr >192 and W_train_curr>192):\n",
        "      X_train_curr = cutimage(X_train_curr, D_train_curr,192,192) #[D,192,192,4]\n",
        "    elif H_train_curr >192:\n",
        "      X_train_curr = X_train_curr[:,0:192,:,:].reshape([D_train_curr,192,W_train_curr,4]) #[D,192,W,4]\n",
        "      X_train_curr = padimage(X_train_curr, D_train_curr,192,192) #[D,192,192,4]\n",
        "    elif W_train_curr>192:\n",
        "      X_train_curr = X_train_curr[:,:,0:192,:].reshape([D_train_curr,H_train_curr,192,4]) #[D,H,192,4]\n",
        "      X_train_curr = padimage(X_train_curr, D_train_curr,192,192) #[D,192,192,4]\n",
        "    else:\n",
        "      X_train_curr = padimage(X_train_curr, D_train_curr,192,192) #[D,192,192,4]\n",
        "    print(\"shape of X_train_curr \"+str(X_train_curr.shape))\n",
        "    X_train = np.concatenate((X_train,X_train_curr),axis=0)\n",
        "    print(\"shape of X_train \"+str(X_train.shape))\n",
        "\n",
        "    Y_train_curr = np.load('/content/drive/MyDrive/cs446_project/data/data_pub/train/'+str(i)+'_seg.npy') #[H,W,D]\n",
        "    Y_train_curr = np.swapaxes(Y_train_curr,1,2) #[H,D,W]\n",
        "    Y_train_curr = np.swapaxes(Y_train_curr,0,1) #[D,H,W]\n",
        "    Y_train_curr = Y_train_curr[:,:,:].reshape([D_train_curr,H_train_curr,W_train_curr,1]) #[D,H,W,1]\n",
        "    if (H_train_curr >192 and W_train_curr>192):\n",
        "      Y_train_curr = cutimage(Y_train_curr, D_train_curr,192,192) #[D,192,192,1]\n",
        "    elif H_train_curr >192:\n",
        "      Y_train_curr = Y_train_curr[:,0:192,:,:].reshape([D_train_curr,192,W_train_curr,1]) #[D,192,W,1]\n",
        "      Y_train_curr = padimage(Y_train_curr, D_train_curr,192,192) #[D,192,192,1]\n",
        "    elif W_train_curr>192:\n",
        "      Y_train_curr = Y_train_curr[:,:,0:192,:].reshape([D_train_curr,H_train_curr,192,1]) #[D,H,192,1]\n",
        "      Y_train_curr = padimage(Y_train_curr, D_train_curr,192,192) #[D,192,192,1]\n",
        "    else:\n",
        "      Y_train_curr = padimage(Y_train_curr, D_train_curr,192,192) #[D,192,192,1]\n",
        "    # Y_train_curr = to_categorical(Y_train_curr) #[D,192,192,4]\n",
        "    print(\"shape of Y_train_curr \"+str(Y_train_curr.shape))\n",
        "    Y_train = np.concatenate((Y_train, Y_train_curr),axis=0)\n",
        "    print(\"shape of Y_train \"+str(Y_train.shape))"
      ],
      "execution_count": null,
      "outputs": []
    },
    {
      "cell_type": "code",
      "metadata": {
        "id": "nUcRdj6UNuwl"
      },
      "source": [
        "Y_train = to_categorical(Y_train) # [D,192,192,1] -> [D,192,192,4]\n"
      ],
      "execution_count": null,
      "outputs": []
    },
    {
      "cell_type": "code",
      "metadata": {
        "colab": {
          "base_uri": "https://localhost:8080/"
        },
        "id": "tT8D_r-UwT4S",
        "outputId": "3484e275-ec9a-48dc-8cfd-ac6a0d7962de"
      },
      "source": [
        "X_train.shape,Y_train.shape"
      ],
      "execution_count": null,
      "outputs": [
        {
          "output_type": "execute_result",
          "data": {
            "text/plain": [
              "((6083, 192, 192, 4), (6083, 192, 192, 4))"
            ]
          },
          "metadata": {
            "tags": []
          },
          "execution_count": 12
        }
      ]
    },
    {
      "cell_type": "code",
      "metadata": {
        "id": "WdJo9hSFMLEK"
      },
      "source": [
        "np.save('/content/drive/MyDrive/cs446_project/data/Training_Data/X_train_161_204.npy',X_train)\n",
        "np.save('/content/drive/MyDrive/cs446_project/data/Training_Data/Y_train_161_204.npy',Y_train)\n"
      ],
      "execution_count": null,
      "outputs": []
    },
    {
      "cell_type": "markdown",
      "metadata": {
        "id": "gMzIemsG3Ofs"
      },
      "source": [
        "Cut to small training data"
      ]
    },
    {
      "cell_type": "code",
      "metadata": {
        "id": "Xaky-CXN06RU"
      },
      "source": [
        "X_train_small = X_train[0:4050,:,:,:].reshape([4050,192,192,4]) \n",
        "Y_train_small = Y_train[0:4050,:,:,:].reshape([4050,192,192,4]) "
      ],
      "execution_count": null,
      "outputs": []
    },
    {
      "cell_type": "code",
      "metadata": {
        "colab": {
          "base_uri": "https://localhost:8080/"
        },
        "id": "EIgDT9GE06lb",
        "outputId": "2fbf3512-85f1-4cb0-f2ea-f0e1c722f4a1"
      },
      "source": [
        "X_train_small.shape, Y_train_small.shape"
      ],
      "execution_count": null,
      "outputs": [
        {
          "output_type": "execute_result",
          "data": {
            "text/plain": [
              "((4050, 192, 192, 4), (4050, 192, 192, 4))"
            ]
          },
          "metadata": {
            "tags": []
          },
          "execution_count": 15
        }
      ]
    },
    {
      "cell_type": "code",
      "metadata": {
        "id": "z61fHoMb1xBX"
      },
      "source": [
        "np.save('/content/drive/MyDrive/cs446_project/data/Training_Data/X_train_small.npy',X_train_small)\n",
        "np.save('/content/drive/MyDrive/cs446_project/data/Training_Data/Y_train_small.npy',Y_train_small)"
      ],
      "execution_count": null,
      "outputs": []
    },
    {
      "cell_type": "markdown",
      "metadata": {
        "id": "KFQk5qiz4NTQ"
      },
      "source": [
        "Load small training data"
      ]
    },
    {
      "cell_type": "code",
      "metadata": {
        "id": "9J7Ti25V1xDz"
      },
      "source": [
        "X_train_small = np.load('/content/drive/MyDrive/cs446_project/data/Training_Data/X_train_small.npy')\n",
        "Y_train_small = np.load('/content/drive/MyDrive/cs446_project/data/Training_Data/Y_train_small.npy')\n",
        "X_train_small.shape,Y_train_small.shape"
      ],
      "execution_count": null,
      "outputs": []
    },
    {
      "cell_type": "markdown",
      "metadata": {
        "id": "5DcYP_inXzpL"
      },
      "source": [
        "Load Training data"
      ]
    },
    {
      "cell_type": "code",
      "metadata": {
        "id": "si3pLMiTX7cM"
      },
      "source": [
        "# 121-160\n",
        "X_train = np.load('/content/drive/MyDrive/cs446_project/data/Training_Data/X_train_121_160.npy')\n",
        "Y_train = np.load('/content/drive/MyDrive/cs446_project/data/Training_Data/Y_train_121_160.npy')\n",
        "X_train.shape,Y_train.shape"
      ],
      "execution_count": null,
      "outputs": []
    },
    {
      "cell_type": "code",
      "metadata": {
        "colab": {
          "base_uri": "https://localhost:8080/"
        },
        "id": "zNkwEFLzdw4D",
        "outputId": "0c35fc04-e631-44ab-bff9-4c44a54c7483"
      },
      "source": [
        "X_train.shape,Y_train.shape,X_val.shape,Y_val.shape"
      ],
      "execution_count": null,
      "outputs": [
        {
          "output_type": "execute_result",
          "data": {
            "text/plain": [
              "((6083, 192, 192, 4),\n",
              " (6083, 192, 192, 4),\n",
              " (4135, 192, 192, 4),\n",
              " (4135, 192, 192, 4))"
            ]
          },
          "metadata": {
            "tags": []
          },
          "execution_count": 13
        }
      ]
    },
    {
      "cell_type": "code",
      "metadata": {
        "colab": {
          "base_uri": "https://localhost:8080/"
        },
        "id": "Jg646tZVs2PO",
        "outputId": "deccc2bc-9a5f-4bef-e17e-3e8e6925475a"
      },
      "source": [
        " %tensorflow_version 1.x\n",
        "from keras.models import Model\n",
        "from keras.layers import MaxPooling2D,Conv2D,Dense,BatchNormalization,concatenate,Input,Dropout,Maximum,Activation,Dense,Flatten,UpSampling2D,Conv2DTranspose\n",
        "from keras.optimizers import SGD,Adam,RMSprop\n",
        "import keras.callbacks as callbacks\n",
        "import keras.initializers as initializers\n",
        "from keras.callbacks import Callback\n",
        "from keras import regularizers"
      ],
      "execution_count": null,
      "outputs": [
        {
          "output_type": "stream",
          "text": [
            "TensorFlow is already loaded. Please restart the runtime to change versions.\n"
          ],
          "name": "stdout"
        }
      ]
    },
    {
      "cell_type": "code",
      "metadata": {
        "id": "yf9NbvRUNu-u",
        "colab": {
          "base_uri": "https://localhost:8080/"
        },
        "outputId": "b2c88a03-d1a9-4d96-ee32-79ef1facd159"
      },
      "source": [
        "############################################ U-net #############################################\n",
        "\n",
        "############ Encoder #############\n",
        "input_ = Input(shape=(192,192,4),name='input')                                              \n",
        "\n",
        "block1_conv1 = Conv2D(64,3,padding='same',activation='relu',name='block1_conv1')(input_)\n",
        "block1_conv2 = Conv2D(64,3,padding='same',activation='relu',name='block1_conv2')(block1_conv1)\n",
        "block1_norm = BatchNormalization(name='block1_batch_norm')(block1_conv2)\n",
        "block1_pool = MaxPooling2D(name='block1_pool')(block1_norm)\n",
        "\n",
        "block2_conv1 = Conv2D(128,3,padding='same',activation='relu',name='block2_conv1')(block1_pool)\n",
        "block2_conv2 = Conv2D(128,3,padding='same',activation='relu',name='block2_conv2')(block2_conv1)\n",
        "block2_norm = BatchNormalization(name='block2_batch_norm')(block2_conv2)\n",
        "block2_pool = MaxPooling2D(name='block2_pool')(block2_norm)\n",
        "\n",
        "encoder_dropout_1 = Dropout(0.2,name='encoder_dropout_1')(block2_pool)\n",
        "\n",
        "block3_conv1 = Conv2D(256,3,padding='same',activation='relu',name='block3_conv1')(encoder_dropout_1)\n",
        "block3_conv2 = Conv2D(256,3,padding='same',activation='relu',name='block3_conv2')(block3_conv1)\n",
        "block3_norm = BatchNormalization(name='block3_batch_norm')(block3_conv2)\n",
        "block3_pool = MaxPooling2D(name='block3_pool')(block3_norm)\n",
        "\n",
        "block4_conv1 = Conv2D(512,3,padding='same',activation='relu',name='block4_conv1')(block3_pool)\n",
        "block4_conv2 = Conv2D(512,3,padding='same',activation='relu',name='block4_conv2')(block4_conv1)\n",
        "block4_norm = BatchNormalization(name='block4_batch_norm')(block4_conv2)\n",
        "block4_pool = MaxPooling2D(name='block4_pool')(block4_norm)\n",
        "################### Encoder end ######################\n",
        "\n",
        "block5_conv1 = Conv2D(1024,3,padding='same',activation='relu',name='block5_conv1')(block4_pool)\n",
        "# encoder_dropout_2 = Dropout(0.2,name='encoder_dropout_2')(block5_conv1)\n",
        "\n",
        "########### Decoder ################\n",
        "\n",
        "up_pool1 = Conv2DTranspose(1024,3,strides = (2, 2),padding='same',activation='relu',name='up_pool1')(block5_conv1)\n",
        "merged_block1 = concatenate([block4_norm,up_pool1],name='merged_block1')\n",
        "decod_block1_conv1 = Conv2D(512,3, padding = 'same', activation='relu',name='decod_block1_conv1')(merged_block1)\n",
        "\n",
        "up_pool2 = Conv2DTranspose(512,3,strides = (2, 2),padding='same',activation='relu',name='up_pool2')(decod_block1_conv1)\n",
        "merged_block2 = concatenate([block3_norm,up_pool2],name='merged_block2')\n",
        "decod_block2_conv1 = Conv2D(256,3,padding = 'same',activation='relu',name='decod_block2_conv1')(merged_block2)\n",
        "\n",
        "decoder_dropout_1 = Dropout(0.2,name='decoder_dropout_1')(decod_block2_conv1)\n",
        "\n",
        "up_pool3 = Conv2DTranspose(256,3,strides = (2, 2),padding='same',activation='relu',name='up_pool3')(decoder_dropout_1)\n",
        "merged_block3 = concatenate([block2_norm,up_pool3],name='merged_block3')\n",
        "decod_block3_conv1 = Conv2D(128,3,padding = 'same',activation='relu',name='decod_block3_conv1')(merged_block3)\n",
        "\n",
        "up_pool4 = Conv2DTranspose(128,3,strides = (2, 2),padding='same',activation='relu',name='up_pool4')(decod_block3_conv1)\n",
        "merged_block4 = concatenate([block1_norm,up_pool4],name='merged_block4')\n",
        "decod_block4_conv1 = Conv2D(64,3,padding = 'same',activation='relu',name='decod_block4_conv1')(merged_block4)\n",
        "############ Decoder End ######################################\n",
        "\n",
        "# decoder_dropout_2 = Dropout(0.2,name='decoder_dropout_2')(decod_block4_conv1)\n",
        "\n",
        "pre_output = Conv2D(64,1,padding = 'same',activation='relu',name='pre_output')(decod_block4_conv1)\n",
        "\n",
        "output = Conv2D(4,1,padding='same',activation='softmax',name='output')(pre_output)\n",
        "\n",
        "model = Model(inputs = input_, outputs = output)\n",
        "model.summary()"
      ],
      "execution_count": null,
      "outputs": [
        {
          "output_type": "stream",
          "text": [
            "Model: \"functional_3\"\n",
            "__________________________________________________________________________________________________\n",
            "Layer (type)                    Output Shape         Param #     Connected to                     \n",
            "==================================================================================================\n",
            "input (InputLayer)              [(None, 192, 192, 4) 0                                            \n",
            "__________________________________________________________________________________________________\n",
            "block1_conv1 (Conv2D)           (None, 192, 192, 64) 2368        input[0][0]                      \n",
            "__________________________________________________________________________________________________\n",
            "block1_conv2 (Conv2D)           (None, 192, 192, 64) 36928       block1_conv1[0][0]               \n",
            "__________________________________________________________________________________________________\n",
            "block1_batch_norm (BatchNormali (None, 192, 192, 64) 256         block1_conv2[0][0]               \n",
            "__________________________________________________________________________________________________\n",
            "block1_pool (MaxPooling2D)      (None, 96, 96, 64)   0           block1_batch_norm[0][0]          \n",
            "__________________________________________________________________________________________________\n",
            "block2_conv1 (Conv2D)           (None, 96, 96, 128)  73856       block1_pool[0][0]                \n",
            "__________________________________________________________________________________________________\n",
            "block2_conv2 (Conv2D)           (None, 96, 96, 128)  147584      block2_conv1[0][0]               \n",
            "__________________________________________________________________________________________________\n",
            "block2_batch_norm (BatchNormali (None, 96, 96, 128)  512         block2_conv2[0][0]               \n",
            "__________________________________________________________________________________________________\n",
            "block2_pool (MaxPooling2D)      (None, 48, 48, 128)  0           block2_batch_norm[0][0]          \n",
            "__________________________________________________________________________________________________\n",
            "encoder_dropout_1 (Dropout)     (None, 48, 48, 128)  0           block2_pool[0][0]                \n",
            "__________________________________________________________________________________________________\n",
            "block3_conv1 (Conv2D)           (None, 48, 48, 256)  295168      encoder_dropout_1[0][0]          \n",
            "__________________________________________________________________________________________________\n",
            "block3_conv2 (Conv2D)           (None, 48, 48, 256)  590080      block3_conv1[0][0]               \n",
            "__________________________________________________________________________________________________\n",
            "block3_batch_norm (BatchNormali (None, 48, 48, 256)  1024        block3_conv2[0][0]               \n",
            "__________________________________________________________________________________________________\n",
            "block3_pool (MaxPooling2D)      (None, 24, 24, 256)  0           block3_batch_norm[0][0]          \n",
            "__________________________________________________________________________________________________\n",
            "block4_conv1 (Conv2D)           (None, 24, 24, 512)  1180160     block3_pool[0][0]                \n",
            "__________________________________________________________________________________________________\n",
            "block4_conv2 (Conv2D)           (None, 24, 24, 512)  2359808     block4_conv1[0][0]               \n",
            "__________________________________________________________________________________________________\n",
            "block4_batch_norm (BatchNormali (None, 24, 24, 512)  2048        block4_conv2[0][0]               \n",
            "__________________________________________________________________________________________________\n",
            "block4_pool (MaxPooling2D)      (None, 12, 12, 512)  0           block4_batch_norm[0][0]          \n",
            "__________________________________________________________________________________________________\n",
            "block5_conv1 (Conv2D)           (None, 12, 12, 1024) 4719616     block4_pool[0][0]                \n",
            "__________________________________________________________________________________________________\n",
            "up_pool1 (Conv2DTranspose)      (None, 24, 24, 1024) 9438208     block5_conv1[0][0]               \n",
            "__________________________________________________________________________________________________\n",
            "merged_block1 (Concatenate)     (None, 24, 24, 1536) 0           block4_batch_norm[0][0]          \n",
            "                                                                 up_pool1[0][0]                   \n",
            "__________________________________________________________________________________________________\n",
            "decod_block1_conv1 (Conv2D)     (None, 24, 24, 512)  7078400     merged_block1[0][0]              \n",
            "__________________________________________________________________________________________________\n",
            "up_pool2 (Conv2DTranspose)      (None, 48, 48, 512)  2359808     decod_block1_conv1[0][0]         \n",
            "__________________________________________________________________________________________________\n",
            "merged_block2 (Concatenate)     (None, 48, 48, 768)  0           block3_batch_norm[0][0]          \n",
            "                                                                 up_pool2[0][0]                   \n",
            "__________________________________________________________________________________________________\n",
            "decod_block2_conv1 (Conv2D)     (None, 48, 48, 256)  1769728     merged_block2[0][0]              \n",
            "__________________________________________________________________________________________________\n",
            "decoder_dropout_1 (Dropout)     (None, 48, 48, 256)  0           decod_block2_conv1[0][0]         \n",
            "__________________________________________________________________________________________________\n",
            "up_pool3 (Conv2DTranspose)      (None, 96, 96, 256)  590080      decoder_dropout_1[0][0]          \n",
            "__________________________________________________________________________________________________\n",
            "merged_block3 (Concatenate)     (None, 96, 96, 384)  0           block2_batch_norm[0][0]          \n",
            "                                                                 up_pool3[0][0]                   \n",
            "__________________________________________________________________________________________________\n",
            "decod_block3_conv1 (Conv2D)     (None, 96, 96, 128)  442496      merged_block3[0][0]              \n",
            "__________________________________________________________________________________________________\n",
            "up_pool4 (Conv2DTranspose)      (None, 192, 192, 128 147584      decod_block3_conv1[0][0]         \n",
            "__________________________________________________________________________________________________\n",
            "merged_block4 (Concatenate)     (None, 192, 192, 192 0           block1_batch_norm[0][0]          \n",
            "                                                                 up_pool4[0][0]                   \n",
            "__________________________________________________________________________________________________\n",
            "decod_block4_conv1 (Conv2D)     (None, 192, 192, 64) 110656      merged_block4[0][0]              \n",
            "__________________________________________________________________________________________________\n",
            "pre_output (Conv2D)             (None, 192, 192, 64) 4160        decod_block4_conv1[0][0]         \n",
            "__________________________________________________________________________________________________\n",
            "output (Conv2D)                 (None, 192, 192, 4)  260         pre_output[0][0]                 \n",
            "==================================================================================================\n",
            "Total params: 31,350,788\n",
            "Trainable params: 31,348,868\n",
            "Non-trainable params: 1,920\n",
            "__________________________________________________________________________________________________\n"
          ],
          "name": "stdout"
        }
      ]
    },
    {
      "cell_type": "code",
      "metadata": {
        "id": "HgLqmh3u3aFt"
      },
      "source": [
        "from keras.utils import  plot_model\n",
        "plot_model(model,to_file='/content/drive/MyDrive/cs446_project/data/unet.png',show_shapes=True)"
      ],
      "execution_count": null,
      "outputs": []
    },
    {
      "cell_type": "markdown",
      "metadata": {
        "id": "iaj5sDNKDSnZ"
      },
      "source": [
        "##Working Area"
      ]
    },
    {
      "cell_type": "code",
      "metadata": {
        "id": "FZ3asv7Pqsjr"
      },
      "source": [
        "from keras import backend as K\n",
        "def dice_coef(y_true, y_pred, epsilon=1e-6):\n",
        "    intersection = K.sum(K.abs(y_true * y_pred), axis=-1)\n",
        "    return (2. * intersection) / (K.sum(K.square(y_true),axis=-1) + K.sum(K.square(y_pred),axis=-1) + epsilon)\n",
        "\n",
        "def dice_coef_loss(y_true, y_pred):\n",
        "    return 1-dice_coef(y_true, y_pred)"
      ],
      "execution_count": null,
      "outputs": []
    },
    {
      "cell_type": "code",
      "metadata": {
        "id": "dTq8y79BFomG"
      },
      "source": [
        "!ls\r\n"
      ],
      "execution_count": null,
      "outputs": []
    },
    {
      "cell_type": "code",
      "metadata": {
        "id": "Kb78rAHs-4np",
        "colab": {
          "base_uri": "https://localhost:8080/"
        },
        "outputId": "15b8dc46-cb61-4201-ea6a-14bf47329f43"
      },
      "source": [
        "model.compile(optimizer=Adam(lr=1e-5),loss=dice_coef_loss,metrics=[dice_coef])\n",
        "model.load_weights('/content/drive/MyDrive/cs446_project/data/Model Checkpoints/yuw_weights_160.hdf5')\n",
        "checkpointer = callbacks.ModelCheckpoint(filepath = '/content/drive/MyDrive/cs446_project/data/Model Checkpoints/yuw_weights_204.hdf5',save_best_only=True)\n",
        "training_log = callbacks.TensorBoard(log_dir='/content/drive/MyDrive/cs446_project/data/Model_logs')\n",
        "history = model.fit(X_train, Y_train, validation_data = (X_val, Y_val), batch_size = 32, epochs = 15, callbacks = [training_log, checkpointer], shuffle= True)"
      ],
      "execution_count": null,
      "outputs": [
        {
          "output_type": "stream",
          "text": [
            "Epoch 1/15\n",
            "  1/191 [..............................] - ETA: 0s - loss: 0.0046 - dice_coef: 0.9954WARNING:tensorflow:From /usr/local/lib/python3.6/dist-packages/tensorflow/python/ops/summary_ops_v2.py:1277: stop (from tensorflow.python.eager.profiler) is deprecated and will be removed after 2020-07-01.\n",
            "Instructions for updating:\n",
            "use `tf.profiler.experimental.stop` instead.\n",
            "  2/191 [..............................] - ETA: 1:33 - loss: 0.0061 - dice_coef: 0.9939WARNING:tensorflow:Callbacks method `on_train_batch_end` is slow compared to the batch time (batch time: 0.2304s vs `on_train_batch_end` time: 0.7447s). Check your callbacks.\n",
            "191/191 [==============================] - 141s 738ms/step - loss: 0.0044 - dice_coef: 0.9956 - val_loss: 0.0071 - val_dice_coef: 0.9929\n",
            "Epoch 2/15\n",
            "191/191 [==============================] - 137s 719ms/step - loss: 0.0035 - dice_coef: 0.9965 - val_loss: 0.0072 - val_dice_coef: 0.9928\n",
            "Epoch 3/15\n",
            "191/191 [==============================] - 137s 719ms/step - loss: 0.0031 - dice_coef: 0.9969 - val_loss: 0.0072 - val_dice_coef: 0.9928\n",
            "Epoch 4/15\n",
            "191/191 [==============================] - 137s 719ms/step - loss: 0.0029 - dice_coef: 0.9971 - val_loss: 0.0079 - val_dice_coef: 0.9921\n",
            "Epoch 5/15\n",
            "191/191 [==============================] - 137s 719ms/step - loss: 0.0029 - dice_coef: 0.9971 - val_loss: 0.0073 - val_dice_coef: 0.9927\n",
            "Epoch 6/15\n",
            "191/191 [==============================] - 137s 719ms/step - loss: 0.0026 - dice_coef: 0.9974 - val_loss: 0.0076 - val_dice_coef: 0.9924\n",
            "Epoch 7/15\n",
            "191/191 [==============================] - 137s 719ms/step - loss: 0.0026 - dice_coef: 0.9974 - val_loss: 0.0074 - val_dice_coef: 0.9926\n",
            "Epoch 8/15\n",
            "191/191 [==============================] - 137s 719ms/step - loss: 0.0025 - dice_coef: 0.9975 - val_loss: 0.0077 - val_dice_coef: 0.9923\n",
            "Epoch 9/15\n",
            "191/191 [==============================] - 137s 719ms/step - loss: 0.0024 - dice_coef: 0.9976 - val_loss: 0.0078 - val_dice_coef: 0.9922\n",
            "Epoch 10/15\n",
            "191/191 [==============================] - 137s 720ms/step - loss: 0.0024 - dice_coef: 0.9976 - val_loss: 0.0075 - val_dice_coef: 0.9925\n",
            "Epoch 11/15\n",
            "191/191 [==============================] - 138s 720ms/step - loss: 0.0023 - dice_coef: 0.9977 - val_loss: 0.0076 - val_dice_coef: 0.9924\n",
            "Epoch 12/15\n",
            "191/191 [==============================] - 137s 719ms/step - loss: 0.0024 - dice_coef: 0.9976 - val_loss: 0.0078 - val_dice_coef: 0.9922\n",
            "Epoch 13/15\n",
            "191/191 [==============================] - 137s 719ms/step - loss: 0.0023 - dice_coef: 0.9977 - val_loss: 0.0076 - val_dice_coef: 0.9924\n",
            "Epoch 14/15\n",
            "191/191 [==============================] - 137s 720ms/step - loss: 0.0023 - dice_coef: 0.9977 - val_loss: 0.0075 - val_dice_coef: 0.9925\n",
            "Epoch 15/15\n",
            "191/191 [==============================] - 137s 719ms/step - loss: 0.0022 - dice_coef: 0.9978 - val_loss: 0.0078 - val_dice_coef: 0.9922\n"
          ],
          "name": "stdout"
        }
      ]
    },
    {
      "cell_type": "code",
      "metadata": {
        "colab": {
          "base_uri": "https://localhost:8080/"
        },
        "id": "mcw3zzUvGlSZ",
        "outputId": "f7514411-e851-4cae-f1fb-3c2eb48c68ab"
      },
      "source": [
        "checkpointer"
      ],
      "execution_count": null,
      "outputs": [
        {
          "output_type": "execute_result",
          "data": {
            "text/plain": [
              "<tensorflow.python.keras.callbacks.ModelCheckpoint at 0x7f9103682828>"
            ]
          },
          "metadata": {
            "tags": []
          },
          "execution_count": 22
        }
      ]
    },
    {
      "cell_type": "code",
      "metadata": {
        "colab": {
          "base_uri": "https://localhost:8080/"
        },
        "id": "ZuL4VgeT32hF",
        "outputId": "869f9af1-60c7-47c4-a22e-b80b70a0a781"
      },
      "source": [
        "X_train.shape,Y_train.shape,X_val.shape,Y_val.shape"
      ],
      "execution_count": null,
      "outputs": [
        {
          "output_type": "execute_result",
          "data": {
            "text/plain": [
              "((5564, 192, 192, 4),\n",
              " (5564, 192, 192, 4),\n",
              " (4135, 192, 192, 4),\n",
              " (4135, 192, 192, 4))"
            ]
          },
          "metadata": {
            "tags": []
          },
          "execution_count": 23
        }
      ]
    },
    {
      "cell_type": "code",
      "metadata": {
        "colab": {
          "base_uri": "https://localhost:8080/",
          "height": 573
        },
        "id": "UDwz_1rC_UwW",
        "outputId": "3b583929-5d38-493d-da04-b804242846b3"
      },
      "source": [
        "# summarize history for loss\n",
        "import matplotlib.pyplot as plt\n",
        "plt.plot(history.history['loss'])\n",
        "plt.plot(history.history['val_loss'])\n",
        "plt.title('model loss')\n",
        "plt.ylabel('dice coef loss')\n",
        "plt.xlabel('epoch')\n",
        "plt.legend(['train', 'val'], loc='upper left')\n",
        "plt.show()\n",
        "plt.plot(history.history['dice_coef'])\n",
        "plt.plot(history.history['val_dice_coef'])\n",
        "plt.title('model score')\n",
        "plt.ylabel('dice coef')\n",
        "plt.xlabel('epoch')\n",
        "plt.legend(['train', 'val'], loc='upper left')\n",
        "plt.show()"
      ],
      "execution_count": null,
      "outputs": [
        {
          "output_type": "display_data",
          "data": {
            "image/png": "[encoded data removed]",
            "text/plain": [
              "<Figure size 432x288 with 1 Axes>"
            ]
          },
          "metadata": {
            "tags": [],
            "needs_background": "light"
          }
        },
        {
          "output_type": "display_data",
          "data": {
            "image/png": "[encoded data removed]",
            "text/plain": [
              "<Figure size 432x288 with 1 Axes>"
            ]
          },
          "metadata": {
            "tags": [],
            "needs_background": "light"
          }
        }
      ]
    },
    {
      "cell_type": "markdown",
      "metadata": {
        "id": "jFYC8QQZ5I0W"
      },
      "source": [
        "Test"
      ]
    },
    {
      "cell_type": "code",
      "metadata": {
        "id": "yfyKrjffIoa7"
      },
      "source": [
        "model.compile(optimizer=Adam(lr=1e-5),loss=dice_coef_loss,metrics=[dice_coef])\n",
        "model.load_weights('/content/drive/MyDrive/cs446_project/data/Model Checkpoints/yuw_weights_204.hdf5')"
      ],
      "execution_count": null,
      "outputs": []
    },
    {
      "cell_type": "code",
      "metadata": {
        "id": "W3jyGy6P5KFN"
      },
      "source": [
        "#this part I will try to decide if the given model can correctly predict the result\n",
        "# os.chdir('/content/drive/MyDrive/cs446_project')\n",
        "def oneshot(index):\n",
        "  print(\"假设输入是[H,W,D]\")\n",
        "  if index<10:\n",
        "    valid_data = np.load('/content/drive/MyDrive/cs446_project/data/data_pub/validation/00' + str(index) + '_imgs.npy')\n",
        "    valid_label = np.load('/content/drive/MyDrive/cs446_project/data/data_pub/validation/00' + str(index) + '_seg.npy')\n",
        "  else:\n",
        "    valid_data = np.load('/content/drive/MyDrive/cs446_project/data/data_pub/validation/0' + str(index) + '_imgs.npy')\n",
        "    valid_label = np.load('/content/drive/MyDrive/cs446_project/data/data_pub/validation/0' + str(index) + '_seg.npy')\n",
        "  print('shape of data and label:')\n",
        "  channel, H, W, D = valid_data.shape\n",
        "  print(valid_data.shape, valid_label.shape)\n",
        "\n",
        "  # [4,H,W,D] -> [D,H,W,4]\n",
        "  valid_data = np.swapaxes(valid_data, 0,3)\n",
        "  #[D,H,W,4] -> [D,192,192,4]\n",
        "  good_shape = padimage(valid_data, D, 192, 192)\n",
        "  print('shape of padded data:')\n",
        "  print(good_shape.shape)\n",
        "  pred = np.argmax(model.predict(good_shape),axis=-1)\n",
        "\n",
        "  print('shape of predicted data')\n",
        "  print(pred.shape)\n",
        "  # [D,192,192] -> [D,H,W]\n",
        "  pred = cutimage(pred, D, H, W)\n",
        "\n",
        "  #D,H,W -> H,W,D\n",
        "  backshape = np.swapaxes(pred,0,1) #H,D,W\n",
        "  backshape = np.swapaxes(backshape,1,2) #H,W,D\n",
        "\n",
        "  print('shape of predicted after cut and swap')\n",
        "  print(backshape.shape)\n",
        "\n",
        "\n",
        "  # for d in range(D):\n",
        "  #   print(\"the graph of the \"+str(d)+\"th slice\")\n",
        "  #   plt.imshow(backshape[:,:,d])\n",
        "  #   plt.show()   \n",
        "\n",
        "  cnt = np.zeros(5)\n",
        "  cnt2 = np.zeros(5, dtype=int)\n",
        "  correctness = np.zeros(2, dtype=int)\n",
        "  for i in range(H):\n",
        "    for j in range(W):\n",
        "      for k in range(D):\n",
        "        cnt[int(valid_label[i][j][k])] += 1\n",
        "        cnt2[int(backshape[i][j][k])] += 1\n",
        "        if backshape[i][j][k] == 0 and valid_label[i][j][k] == 0:\n",
        "          correctness[0] += 1\n",
        "        elif backshape[i][j][k] != 0 and valid_label[i][j][k] == backshape[i][j][k]:\n",
        "          correctness[1] += 1\n",
        "  print('cnt[i] means the nmber of i in it')\n",
        "  print('cnt of valid_label')\n",
        "  print(cnt)\n",
        "  print('cnt of pred_label')\n",
        "  print(cnt2)\n",
        "  print('correct0 means numebr of both zero matched, correct1 means number of both one matched')\n",
        "  print(correctness)"
      ],
      "execution_count": null,
      "outputs": []
    },
    {
      "cell_type": "code",
      "metadata": {
        "id": "JoUUPEow6YyI",
        "colab": {
          "base_uri": "https://localhost:8080/"
        },
        "outputId": "1ffe414e-4a94-46fe-8873-fae348de84aa"
      },
      "source": [
        "oneshot(33)"
      ],
      "execution_count": null,
      "outputs": [
        {
          "output_type": "stream",
          "text": [
            "假设输入是[H,W,D]\n",
            "shape of data and label:\n",
            "(4, 135, 174, 141) (135, 174, 141)\n",
            "shape of padded data:\n",
            "(141, 192, 192, 4)\n",
            "shape of predicted data\n",
            "(141, 192, 192)\n",
            "shape of predicted after cut and swap\n",
            "(135, 174, 141)\n",
            "cnt[i] means the nmber of i in it\n",
            "cnt of valid_label\n",
            "[3124520.   21122.  129871.   36577.       0.]\n",
            "cnt of pred_label\n",
            "[3122433   14141  127329   48187       0]\n",
            "correct0 means numebr of both zero matched, correct1 means number of both one matched\n",
            "[3108059  153868]\n"
          ],
          "name": "stdout"
        }
      ]
    },
    {
      "cell_type": "code",
      "metadata": {
        "id": "3EtqXoSB-xq8"
      },
      "source": [
        "def getandsavepredict(index):\n",
        "  test_data = np.load('./data/test_pub/test_pub/' + index + '_imgs.npy')\n",
        "  channel, H, W, D = test_data.shape\n",
        "\n",
        "  # [4,H,W,D] -> [D,H,W,4]\n",
        "  test_data = np.swapaxes(test_data, 0,3)\n",
        "  #[D,H,W,4] -> [D,192,192,4]\n",
        "  good_shape = padimage(test_data, D, 192, 192)\n",
        "  pred = np.argmax(model.predict(good_shape),axis=-1)\n",
        "\n",
        "  # [D,192,192] -> [D,H,W]\n",
        "  pred = cutimage(pred, D, H, W)\n",
        "  #D,H,W -> H,W,D\n",
        "  backshape = np.swapaxes(pred,0,1) #H,D,W\n",
        "  backshape = np.swapaxes(backshape,1,2) #H,W,D\n",
        "\n",
        "\n",
        "  np.save('./data/test_pub/test_pub/' + index + '_seg.npy',backshape)"
      ],
      "execution_count": null,
      "outputs": []
    },
    {
      "cell_type": "code",
      "metadata": {
        "id": "tI3LqM0X-zt9",
        "colab": {
          "base_uri": "https://localhost:8080/"
        },
        "outputId": "c9e33c93-de33-4274-c8b7-23e60fbceb06"
      },
      "source": [
        "for i in range(1,69):\n",
        "  print(i)\n",
        "  if i < 10:\n",
        "    getandsavepredict('00' + str(i))\n",
        "  elif i < 100:\n",
        "    getandsavepredict('0' + str(i))"
      ],
      "execution_count": null,
      "outputs": [
        {
          "output_type": "stream",
          "text": [
            "1\n",
            "2\n",
            "3\n",
            "4\n",
            "5\n",
            "6\n",
            "7\n",
            "8\n",
            "9\n",
            "10\n",
            "11\n",
            "12\n",
            "13\n",
            "14\n",
            "15\n",
            "16\n",
            "17\n",
            "18\n",
            "19\n",
            "20\n",
            "21\n",
            "22\n",
            "23\n",
            "24\n",
            "25\n",
            "26\n",
            "27\n",
            "28\n",
            "29\n",
            "30\n",
            "31\n",
            "32\n",
            "33\n",
            "34\n",
            "35\n",
            "36\n",
            "37\n",
            "38\n",
            "39\n",
            "40\n",
            "41\n",
            "42\n",
            "43\n",
            "44\n",
            "45\n",
            "46\n",
            "47\n",
            "48\n",
            "49\n",
            "50\n",
            "51\n",
            "52\n",
            "53\n",
            "54\n",
            "55\n",
            "56\n",
            "57\n",
            "58\n",
            "59\n",
            "60\n",
            "61\n",
            "62\n",
            "63\n",
            "64\n",
            "65\n",
            "66\n",
            "67\n",
            "68\n"
          ],
          "name": "stdout"
        }
      ]
    },
    {
      "cell_type": "code",
      "metadata": {
        "colab": {
          "base_uri": "https://localhost:8080/"
        },
        "id": "kv7-wyHf5KVA",
        "outputId": "97dd7974-82e1-4a5f-fd92-b76a65644d53"
      },
      "source": [
        "import os\n",
        "os.chdir('/content/drive/My Drive/cs446_project')\n",
        "import create_submission\n",
        "!python create_submission.py --seg-dir ./data/test_pub/test_pub  --out-csv-path full_img_5parts_submission.csv"
      ],
      "execution_count": null,
      "outputs": [
        {
          "output_type": "stream",
          "text": [
            "100% 205/205 [00:08<00:00, 23.42it/s]\n"
          ],
          "name": "stdout"
        }
      ]
    },
    {
      "cell_type": "code",
      "metadata": {
        "id": "pHHZlzMcozLP"
      },
      "source": [
        "model.save('/content/drive/MyDrive/cs446_project/data/Saved Models/5parts_model.h5',overwrite=True)"
      ],
      "execution_count": null,
      "outputs": []
    }
  ]
}